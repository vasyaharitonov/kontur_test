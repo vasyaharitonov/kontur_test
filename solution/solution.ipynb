{
 "cells": [
  {
   "cell_type": "markdown",
   "id": "d81f8b14",
   "metadata": {},
   "source": [
    "# Тестовое задание\n",
    "\n",
    "Для выполнения тестового задания требуется разработать модель, которая будет способна различать заголовки реальных и выдуманных новостей.\n",
    "Для обучения модели используйте данные из файла `train.tsv`. В файле находится таблица, состоящая из двух колонок. \n",
    "В колонке title записан заголовок новости. В колонке is_fake содержатся метки: 0 – новость реальная; 1 – новость выдуманная.\n",
    "Для демонстрации работы модели используйте данные тестового набора из файла `test.tsv`. В нем также есть колонка title, данные которой являются входными для вашей модели.\n",
    "Вам нужно скопировать файл `test.tsv`, переименовать его в `predictions.tsv` и заполнить колонку is_fake значениями предсказаний вашей модели, аналогично `train.tsv`. \n",
    "Изначально колонка заполнена значением 0.\n",
    "\n",
    "# Критерии оценки\n",
    "1. Для оценки финального решения будет использоваться метрика F1 score.\n",
    "2. Чистота кода, оформление и понятность исследования.\n",
    "\n",
    "# Требования к решению\n",
    "В качестве решения мы ожидаем zip-архив со всеми *.py и *.ipynb файлами в папке solution и файлом `predictions.tsv` в корне. Формат имени zip-архива: LastName_FirstName.zip (пример Ivanov_Ivan.zip).\n",
    "Файл `predictions.tsv` должен включать в себя колонку title, содержащую те же данные, что и исходный файл `test.tsv`, а также колонку is_fake, содержащую значения 0 или 1.\n",
    "Разметка тестового набора данных и включение его в обучение/валидацию запрещены.\n",
    "\n",
    "В папке solution должно быть отражено исследование и весь код, необходимый для воспроизведения исследования.\n",
    "\n",
    "Успехов!\n"
   ]
  },
  {
   "cell_type": "markdown",
   "id": "29cab8c7",
   "metadata": {},
   "source": [
    "# Решение"
   ]
  },
  {
   "cell_type": "markdown",
   "id": "0b57e05e",
   "metadata": {},
   "source": [
    "### Импортируем необходимые библиотеки"
   ]
  },
  {
   "cell_type": "code",
   "execution_count": 1,
   "id": "8a5e514a",
   "metadata": {},
   "outputs": [],
   "source": [
    "import numpy as np\n",
    "import pandas as pd\n",
    "\n",
    "\n",
    "import nltk\n",
    "from nltk.stem.snowball import RussianStemmer\n",
    "rus_stem = RussianStemmer()\n",
    "\n",
    "import re\n",
    "\n",
    "import matplotlib.pyplot as plt\n",
    "\n",
    "import pymorphy2\n",
    "morph = pymorphy2.MorphAnalyzer()\n",
    "\n",
    "\n",
    "\n",
    "from sklearn.model_selection import train_test_split\n",
    "from sklearn.feature_extraction.text import TfidfVectorizer\n",
    "from sklearn.feature_extraction.text import CountVectorizer\n",
    "from sklearn.linear_model import LogisticRegression\n",
    "from sklearn.naive_bayes import MultinomialNB\n",
    "from sklearn import metrics"
   ]
  },
  {
   "cell_type": "code",
   "execution_count": 2,
   "id": "6e51b0a9",
   "metadata": {},
   "outputs": [],
   "source": [
    "#сменим директрию\n",
    "import os\n",
    "\n",
    "path_parent = os.path.dirname(os.getcwd())\n",
    "os.chdir(path_parent)"
   ]
  },
  {
   "cell_type": "markdown",
   "id": "9fcddc8f",
   "metadata": {},
   "source": [
    "### Загрузка данных"
   ]
  },
  {
   "cell_type": "code",
   "execution_count": 3,
   "id": "1fda7e6a",
   "metadata": {},
   "outputs": [],
   "source": [
    "train = pd.read_csv(\"dataset/train.tsv\", sep='\\t')\n",
    "test = pd.read_csv(\"dataset/test.tsv\", sep='\\t')"
   ]
  },
  {
   "cell_type": "code",
   "execution_count": 4,
   "id": "2fa22a9a",
   "metadata": {},
   "outputs": [
    {
     "data": {
      "text/html": [
       "<div>\n",
       "<style scoped>\n",
       "    .dataframe tbody tr th:only-of-type {\n",
       "        vertical-align: middle;\n",
       "    }\n",
       "\n",
       "    .dataframe tbody tr th {\n",
       "        vertical-align: top;\n",
       "    }\n",
       "\n",
       "    .dataframe thead th {\n",
       "        text-align: right;\n",
       "    }\n",
       "</style>\n",
       "<table border=\"1\" class=\"dataframe\">\n",
       "  <thead>\n",
       "    <tr style=\"text-align: right;\">\n",
       "      <th></th>\n",
       "      <th>title</th>\n",
       "      <th>is_fake</th>\n",
       "    </tr>\n",
       "  </thead>\n",
       "  <tbody>\n",
       "    <tr>\n",
       "      <th>0</th>\n",
       "      <td>Москвичу Владимиру Клутину пришёл счёт за вмеш...</td>\n",
       "      <td>1</td>\n",
       "    </tr>\n",
       "    <tr>\n",
       "      <th>1</th>\n",
       "      <td>Агент Кокорина назвал езду по встречке житейск...</td>\n",
       "      <td>0</td>\n",
       "    </tr>\n",
       "    <tr>\n",
       "      <th>2</th>\n",
       "      <td>Госдума рассмотрит возможность введения секрет...</td>\n",
       "      <td>1</td>\n",
       "    </tr>\n",
       "    <tr>\n",
       "      <th>3</th>\n",
       "      <td>ФАС заблокировала поставку скоростных трамваев...</td>\n",
       "      <td>0</td>\n",
       "    </tr>\n",
       "    <tr>\n",
       "      <th>4</th>\n",
       "      <td>Против Навального завели дело о недоносительст...</td>\n",
       "      <td>1</td>\n",
       "    </tr>\n",
       "  </tbody>\n",
       "</table>\n",
       "</div>"
      ],
      "text/plain": [
       "                                               title  is_fake\n",
       "0  Москвичу Владимиру Клутину пришёл счёт за вмеш...        1\n",
       "1  Агент Кокорина назвал езду по встречке житейск...        0\n",
       "2  Госдума рассмотрит возможность введения секрет...        1\n",
       "3  ФАС заблокировала поставку скоростных трамваев...        0\n",
       "4  Против Навального завели дело о недоносительст...        1"
      ]
     },
     "execution_count": 4,
     "metadata": {},
     "output_type": "execute_result"
    }
   ],
   "source": [
    "train.head()"
   ]
  },
  {
   "cell_type": "markdown",
   "id": "99426983",
   "metadata": {},
   "source": [
    "### Количество данных"
   ]
  },
  {
   "cell_type": "code",
   "execution_count": 5,
   "id": "95377bf0",
   "metadata": {},
   "outputs": [
    {
     "name": "stdout",
     "output_type": "stream",
     "text": [
      "Train Shape: (5758, 2)\n",
      "Test Shape: (1000, 2)\n"
     ]
    }
   ],
   "source": [
    "print(\"Train Shape: %s\"%str(train.shape))\n",
    "print(\"Test Shape: %s\"%str(test.shape))"
   ]
  },
  {
   "cell_type": "markdown",
   "id": "867af54e",
   "metadata": {},
   "source": [
    "### Предобработка текста"
   ]
  },
  {
   "cell_type": "code",
   "execution_count": 6,
   "id": "b8100259",
   "metadata": {},
   "outputs": [
    {
     "name": "stderr",
     "output_type": "stream",
     "text": [
      "[nltk_data] Downloading package stopwords to /home/vasya/nltk_data...\n",
      "[nltk_data]   Package stopwords is already up-to-date!\n"
     ]
    },
    {
     "data": {
      "text/plain": [
       "True"
      ]
     },
     "execution_count": 6,
     "metadata": {},
     "output_type": "execute_result"
    }
   ],
   "source": [
    "nltk.download('stopwords')"
   ]
  },
  {
   "cell_type": "code",
   "execution_count": 7,
   "id": "e3aa1cc7",
   "metadata": {},
   "outputs": [],
   "source": [
    "stopwords = nltk.corpus.stopwords.words('russian')"
   ]
  },
  {
   "cell_type": "code",
   "execution_count": 8,
   "id": "68571f34",
   "metadata": {
    "scrolled": true
   },
   "outputs": [
    {
     "name": "stdout",
     "output_type": "stream",
     "text": [
      "['и', 'в', 'во', 'не', 'что', 'он', 'на', 'я', 'с', 'со', 'как', 'а', 'то', 'все', 'она', 'так', 'его', 'но', 'да', 'ты', 'к', 'у', 'же', 'вы', 'за', 'бы', 'по', 'только', 'ее', 'мне', 'было', 'вот', 'от', 'меня', 'еще', 'нет', 'о', 'из', 'ему', 'теперь', 'когда', 'даже', 'ну', 'вдруг', 'ли', 'если', 'уже', 'или', 'ни', 'быть', 'был', 'него', 'до', 'вас', 'нибудь', 'опять', 'уж', 'вам', 'ведь', 'там', 'потом', 'себя', 'ничего', 'ей', 'может', 'они', 'тут', 'где', 'есть', 'надо', 'ней', 'для', 'мы', 'тебя', 'их', 'чем', 'была', 'сам', 'чтоб', 'без', 'будто', 'чего', 'раз', 'тоже', 'себе', 'под', 'будет', 'ж', 'тогда', 'кто', 'этот', 'того', 'потому', 'этого', 'какой', 'совсем', 'ним', 'здесь', 'этом', 'один', 'почти', 'мой', 'тем', 'чтобы', 'нее', 'сейчас', 'были', 'куда', 'зачем', 'всех', 'никогда', 'можно', 'при', 'наконец', 'два', 'об', 'другой', 'хоть', 'после', 'над', 'больше', 'тот', 'через', 'эти', 'нас', 'про', 'всего', 'них', 'какая', 'много', 'разве', 'три', 'эту', 'моя', 'впрочем', 'хорошо', 'свою', 'этой', 'перед', 'иногда', 'лучше', 'чуть', 'том', 'нельзя', 'такой', 'им', 'более', 'всегда', 'конечно', 'всю', 'между']\n"
     ]
    }
   ],
   "source": [
    "print(stopwords)"
   ]
  },
  {
   "cell_type": "markdown",
   "id": "b36ae493",
   "metadata": {},
   "source": [
    "Создадим колонку куда будем записывать все преобразования входных данных"
   ]
  },
  {
   "cell_type": "code",
   "execution_count": 9,
   "id": "c147e7b8",
   "metadata": {},
   "outputs": [],
   "source": [
    "test['total'] = test['title']\n",
    "train['total'] = train['title']"
   ]
  },
  {
   "cell_type": "code",
   "execution_count": 10,
   "id": "92529aec",
   "metadata": {},
   "outputs": [
    {
     "data": {
      "text/html": [
       "<div>\n",
       "<style scoped>\n",
       "    .dataframe tbody tr th:only-of-type {\n",
       "        vertical-align: middle;\n",
       "    }\n",
       "\n",
       "    .dataframe tbody tr th {\n",
       "        vertical-align: top;\n",
       "    }\n",
       "\n",
       "    .dataframe thead th {\n",
       "        text-align: right;\n",
       "    }\n",
       "</style>\n",
       "<table border=\"1\" class=\"dataframe\">\n",
       "  <thead>\n",
       "    <tr style=\"text-align: right;\">\n",
       "      <th></th>\n",
       "      <th>title</th>\n",
       "      <th>is_fake</th>\n",
       "      <th>total</th>\n",
       "    </tr>\n",
       "  </thead>\n",
       "  <tbody>\n",
       "    <tr>\n",
       "      <th>0</th>\n",
       "      <td>Москвичу Владимиру Клутину пришёл счёт за вмеш...</td>\n",
       "      <td>1</td>\n",
       "      <td>Москвичу Владимиру Клутину пришёл счёт за вмеш...</td>\n",
       "    </tr>\n",
       "    <tr>\n",
       "      <th>1</th>\n",
       "      <td>Агент Кокорина назвал езду по встречке житейск...</td>\n",
       "      <td>0</td>\n",
       "      <td>Агент Кокорина назвал езду по встречке житейск...</td>\n",
       "    </tr>\n",
       "    <tr>\n",
       "      <th>2</th>\n",
       "      <td>Госдума рассмотрит возможность введения секрет...</td>\n",
       "      <td>1</td>\n",
       "      <td>Госдума рассмотрит возможность введения секрет...</td>\n",
       "    </tr>\n",
       "    <tr>\n",
       "      <th>3</th>\n",
       "      <td>ФАС заблокировала поставку скоростных трамваев...</td>\n",
       "      <td>0</td>\n",
       "      <td>ФАС заблокировала поставку скоростных трамваев...</td>\n",
       "    </tr>\n",
       "    <tr>\n",
       "      <th>4</th>\n",
       "      <td>Против Навального завели дело о недоносительст...</td>\n",
       "      <td>1</td>\n",
       "      <td>Против Навального завели дело о недоносительст...</td>\n",
       "    </tr>\n",
       "  </tbody>\n",
       "</table>\n",
       "</div>"
      ],
      "text/plain": [
       "                                               title  is_fake  \\\n",
       "0  Москвичу Владимиру Клутину пришёл счёт за вмеш...        1   \n",
       "1  Агент Кокорина назвал езду по встречке житейск...        0   \n",
       "2  Госдума рассмотрит возможность введения секрет...        1   \n",
       "3  ФАС заблокировала поставку скоростных трамваев...        0   \n",
       "4  Против Навального завели дело о недоносительст...        1   \n",
       "\n",
       "                                               total  \n",
       "0  Москвичу Владимиру Клутину пришёл счёт за вмеш...  \n",
       "1  Агент Кокорина назвал езду по встречке житейск...  \n",
       "2  Госдума рассмотрит возможность введения секрет...  \n",
       "3  ФАС заблокировала поставку скоростных трамваев...  \n",
       "4  Против Навального завели дело о недоносительст...  "
      ]
     },
     "execution_count": 10,
     "metadata": {},
     "output_type": "execute_result"
    }
   ],
   "source": [
    "train.head()"
   ]
  },
  {
   "cell_type": "markdown",
   "id": "7ad95e54",
   "metadata": {},
   "source": [
    "Функции для очистки, удаления стоп-слов и лемматизация"
   ]
  },
  {
   "cell_type": "code",
   "execution_count": 11,
   "id": "0133bfb5",
   "metadata": {},
   "outputs": [],
   "source": [
    "def clean_text(text):\n",
    "    # оставляем только буквы, нижние подчеркивания и тире\n",
    "    text = re.sub(\"[^а-яА-Яa-zA-Z\\-\\_ё]\", \" \", text)\n",
    "    # удаляем лишние пробелы\n",
    "    text = ' '.join(text.split())\n",
    "    # приводим к нижнему регистру\n",
    "    text = text.lower()\n",
    "    return text"
   ]
  },
  {
   "cell_type": "code",
   "execution_count": 12,
   "id": "dd83f1c5",
   "metadata": {},
   "outputs": [],
   "source": [
    "def remove_stopwords(text):\n",
    "    no_stopword_text = [w for w in text.split() if not w in stopwords]\n",
    "    return ' '.join(no_stopword_text)"
   ]
  },
  {
   "cell_type": "code",
   "execution_count": 13,
   "id": "606a064b",
   "metadata": {},
   "outputs": [],
   "source": [
    "def lemmatization_morph(text):\n",
    "    '''Функция для леммантизации слов'''\n",
    "    lemmatize_text = [morph.parse(w)[0].normal_form for w in text.split()]\n",
    "    return ' '.join(lemmatize_text)"
   ]
  },
  {
   "cell_type": "code",
   "execution_count": 14,
   "id": "b166d1c9",
   "metadata": {},
   "outputs": [],
   "source": [
    "def stemmer(text):\n",
    "    '''Функция для стемминга слов'''\n",
    "    stemmer_text = [rus_stem.stem(w) for w in text.split()]\n",
    "    return ' '.join(stemmer_text)"
   ]
  },
  {
   "cell_type": "code",
   "execution_count": 15,
   "id": "7f415fd8",
   "metadata": {},
   "outputs": [
    {
     "name": "stdout",
     "output_type": "stream",
     "text": [
      "CPU times: user 11.4 s, sys: 0 ns, total: 11.4 s\n",
      "Wall time: 11.4 s\n"
     ]
    }
   ],
   "source": [
    "%%time\n",
    "train['total'] = train['total'].apply(clean_text)\n",
    "test['total'] = test['total'].apply(clean_text)\n",
    "\n",
    "train['total'] = train['total'].apply(remove_stopwords)\n",
    "test['total'] = test['total'].apply(remove_stopwords)\n",
    "\n",
    "train['total'] = train['total'].apply(lemmatization_morph)\n",
    "test['total'] = test['total'].apply(lemmatization_morph)\n",
    "\n",
    "#train['total'] = train['total'].apply(stemmer)\n",
    "#test['total'] = test['total'].apply(stemmer)\n",
    "\n",
    "#Попробовав лемматизацию и стемминг понял что первое показывает результат лучше"
   ]
  },
  {
   "cell_type": "code",
   "execution_count": 16,
   "id": "328f3b49",
   "metadata": {},
   "outputs": [
    {
     "data": {
      "text/html": [
       "<div>\n",
       "<style scoped>\n",
       "    .dataframe tbody tr th:only-of-type {\n",
       "        vertical-align: middle;\n",
       "    }\n",
       "\n",
       "    .dataframe tbody tr th {\n",
       "        vertical-align: top;\n",
       "    }\n",
       "\n",
       "    .dataframe thead th {\n",
       "        text-align: right;\n",
       "    }\n",
       "</style>\n",
       "<table border=\"1\" class=\"dataframe\">\n",
       "  <thead>\n",
       "    <tr style=\"text-align: right;\">\n",
       "      <th></th>\n",
       "      <th>title</th>\n",
       "      <th>is_fake</th>\n",
       "      <th>total</th>\n",
       "    </tr>\n",
       "  </thead>\n",
       "  <tbody>\n",
       "    <tr>\n",
       "      <th>0</th>\n",
       "      <td>Москвичу Владимиру Клутину пришёл счёт за вмеш...</td>\n",
       "      <td>1</td>\n",
       "      <td>москвич владимир клутина прийти счёт вмешатель...</td>\n",
       "    </tr>\n",
       "    <tr>\n",
       "      <th>1</th>\n",
       "      <td>Агент Кокорина назвал езду по встречке житейск...</td>\n",
       "      <td>0</td>\n",
       "      <td>агент кокорин назвать езда встречка житейский ...</td>\n",
       "    </tr>\n",
       "    <tr>\n",
       "      <th>2</th>\n",
       "      <td>Госдума рассмотрит возможность введения секрет...</td>\n",
       "      <td>1</td>\n",
       "      <td>госдума рассмотреть возможность введение секре...</td>\n",
       "    </tr>\n",
       "    <tr>\n",
       "      <th>3</th>\n",
       "      <td>ФАС заблокировала поставку скоростных трамваев...</td>\n",
       "      <td>0</td>\n",
       "      <td>фас заблокировать поставка скоростной трамвай ...</td>\n",
       "    </tr>\n",
       "    <tr>\n",
       "      <th>4</th>\n",
       "      <td>Против Навального завели дело о недоносительст...</td>\n",
       "      <td>1</td>\n",
       "      <td>против навальный завести дело недоносительство...</td>\n",
       "    </tr>\n",
       "  </tbody>\n",
       "</table>\n",
       "</div>"
      ],
      "text/plain": [
       "                                               title  is_fake  \\\n",
       "0  Москвичу Владимиру Клутину пришёл счёт за вмеш...        1   \n",
       "1  Агент Кокорина назвал езду по встречке житейск...        0   \n",
       "2  Госдума рассмотрит возможность введения секрет...        1   \n",
       "3  ФАС заблокировала поставку скоростных трамваев...        0   \n",
       "4  Против Навального завели дело о недоносительст...        1   \n",
       "\n",
       "                                               total  \n",
       "0  москвич владимир клутина прийти счёт вмешатель...  \n",
       "1  агент кокорин назвать езда встречка житейский ...  \n",
       "2  госдума рассмотреть возможность введение секре...  \n",
       "3  фас заблокировать поставка скоростной трамвай ...  \n",
       "4  против навальный завести дело недоносительство...  "
      ]
     },
     "execution_count": 16,
     "metadata": {},
     "output_type": "execute_result"
    }
   ],
   "source": [
    "train.head()"
   ]
  },
  {
   "cell_type": "markdown",
   "id": "3d19a16a",
   "metadata": {},
   "source": [
    "Разделим на обучающую выборку и тестовую"
   ]
  },
  {
   "cell_type": "code",
   "execution_count": 17,
   "id": "e5f0e20f",
   "metadata": {},
   "outputs": [],
   "source": [
    "X_train, X_test, y_train, y_test = train_test_split(train['total'], train['is_fake'], test_size=0.20, random_state=0)"
   ]
  },
  {
   "cell_type": "markdown",
   "id": "fe42f658",
   "metadata": {},
   "source": [
    "### Логистическая регрессия и TF-IDF векторизация"
   ]
  },
  {
   "cell_type": "code",
   "execution_count": 19,
   "id": "4bc3967a",
   "metadata": {},
   "outputs": [],
   "source": [
    "tfidf_vectorizer = TfidfVectorizer(ngram_range=(1, 2))    #включаем также биграммы\n",
    "tfidf_vectorizer.fit(X_train)\n",
    "tfidf_train = tfidf_vectorizer.transform(X_train)\n",
    "tfidf_test  = tfidf_vectorizer.transform(X_test)"
   ]
  },
  {
   "cell_type": "code",
   "execution_count": 20,
   "id": "e13dbe8f",
   "metadata": {},
   "outputs": [
    {
     "name": "stdout",
     "output_type": "stream",
     "text": [
      "CPU times: user 2.82 s, sys: 4.84 s, total: 7.66 s\n",
      "Wall time: 1.09 s\n"
     ]
    },
    {
     "data": {
      "text/plain": [
       "LogisticRegression(C=1000000.0)"
      ]
     },
     "execution_count": 20,
     "metadata": {},
     "output_type": "execute_result"
    }
   ],
   "source": [
    "%%time\n",
    "classifier = LogisticRegression(C=1e6)\n",
    "classifier.fit(tfidf_train, y_train)"
   ]
  },
  {
   "cell_type": "code",
   "execution_count": 21,
   "id": "186bf156",
   "metadata": {
    "scrolled": true
   },
   "outputs": [
    {
     "name": "stdout",
     "output_type": "stream",
     "text": [
      "0.859375\n"
     ]
    }
   ],
   "source": [
    "pred_classifier_tfidf = classifier.predict(tfidf_test)\n",
    "acc_classifier_tfidf = metrics.accuracy_score(y_test, pred_classifier_tfidf)\n",
    "print(acc_classifier_tfidf)"
   ]
  },
  {
   "cell_type": "code",
   "execution_count": 22,
   "id": "8a0cc402",
   "metadata": {},
   "outputs": [
    {
     "data": {
      "text/plain": [
       "0.8663366336633662"
      ]
     },
     "execution_count": 22,
     "metadata": {},
     "output_type": "execute_result"
    }
   ],
   "source": [
    "metrics.f1_score(y_test, pred_classifier_tfidf)"
   ]
  },
  {
   "cell_type": "markdown",
   "id": "60a73652",
   "metadata": {},
   "source": [
    "### Логистическая регрессия и Count векторизация"
   ]
  },
  {
   "cell_type": "code",
   "execution_count": 23,
   "id": "9af91ba1",
   "metadata": {},
   "outputs": [],
   "source": [
    "count_vectorizer = CountVectorizer(ngram_range=(1, 2)) \n",
    "count_train = count_vectorizer.fit_transform(X_train)\n",
    "count_test = count_vectorizer.transform(X_test)"
   ]
  },
  {
   "cell_type": "code",
   "execution_count": 24,
   "id": "9b030909",
   "metadata": {
    "scrolled": true
   },
   "outputs": [
    {
     "name": "stdout",
     "output_type": "stream",
     "text": [
      "0.8576388888888888\n"
     ]
    }
   ],
   "source": [
    "classifier = LogisticRegression(C=1e6)\n",
    "classifier.fit(count_train, y_train)\n",
    "pred_classifier_count = classifier.predict(count_test)\n",
    "acc_classifier_count = metrics.accuracy_score(y_test, pred_classifier_count)\n",
    "print(acc_classifier_count)"
   ]
  },
  {
   "cell_type": "code",
   "execution_count": 25,
   "id": "9d31c8f4",
   "metadata": {},
   "outputs": [
    {
     "data": {
      "text/plain": [
       "0.8543516873889877"
      ]
     },
     "execution_count": 25,
     "metadata": {},
     "output_type": "execute_result"
    }
   ],
   "source": [
    "metrics.f1_score(y_test, pred_classifier_count)"
   ]
  },
  {
   "cell_type": "markdown",
   "id": "2c2a50ef",
   "metadata": {},
   "source": [
    "### Multinomial Naive Bayes  и Count векторизация"
   ]
  },
  {
   "cell_type": "code",
   "execution_count": 26,
   "id": "18ee2da6",
   "metadata": {
    "scrolled": true
   },
   "outputs": [
    {
     "name": "stdout",
     "output_type": "stream",
     "text": [
      "Alpha: 0.10 Score: 0.8602 f1-score: 0.8692\n",
      "Alpha: 0.15 Score: 0.8628 f1-score: 0.8713\n",
      "Alpha: 0.20 Score: 0.8628 f1-score: 0.8718\n",
      "Alpha: 0.25 Score: 0.8663 f1-score: 0.8754\n",
      "Alpha: 0.30 Score: 0.8689 f1-score: 0.8779\n",
      "Alpha: 0.35 Score: 0.8689 f1-score: 0.8779\n",
      "Alpha: 0.40 Score: 0.8689 f1-score: 0.8781\n",
      "Alpha: 0.45 Score: 0.8655 f1-score: 0.8749\n",
      "Alpha: 0.50 Score: 0.8628 f1-score: 0.8728\n",
      "Alpha: 0.55 Score: 0.8637 f1-score: 0.8735\n",
      "Alpha: 0.60 Score: 0.8628 f1-score: 0.8730\n",
      "Alpha: 0.65 Score: 0.8628 f1-score: 0.8730\n",
      "Alpha: 0.70 Score: 0.8628 f1-score: 0.8730\n",
      "Alpha: 0.75 Score: 0.8646 f1-score: 0.8746\n",
      "Alpha: 0.80 Score: 0.8655 f1-score: 0.8753\n",
      "Alpha: 0.85 Score: 0.8663 f1-score: 0.8762\n",
      "Alpha: 0.90 Score: 0.8672 f1-score: 0.8773\n",
      "Alpha: 0.95 Score: 0.8672 f1-score: 0.8777\n"
     ]
    }
   ],
   "source": [
    "for alpha in np.arange(0.10, 1, .05):\n",
    "    nb_classifier_tune = MultinomialNB(alpha=alpha)\n",
    "    nb_classifier_tune.fit(count_train, y_train)\n",
    "    pred_tune = nb_classifier_tune.predict(count_test)\n",
    "    score = metrics.accuracy_score(y_test, pred_tune)\n",
    "    print(\"Alpha: {:.2f} Score: {:.4f} f1-score: {:.4f}\".format(alpha, score, metrics.f1_score(y_test, pred_tune)))"
   ]
  },
  {
   "cell_type": "markdown",
   "id": "44095f1c",
   "metadata": {},
   "source": [
    "Лучше всего результат получается с MultinominalNB(alpha = 0.95), этот алгоритм и будем использовать для обучения модели на полном наборе данных"
   ]
  },
  {
   "cell_type": "markdown",
   "id": "3f6fc2bb",
   "metadata": {},
   "source": [
    "Попробуем ансамбли"
   ]
  },
  {
   "cell_type": "code",
   "execution_count": 27,
   "id": "6fdb9b71",
   "metadata": {},
   "outputs": [],
   "source": [
    "sum_of_voices = pred_tune.astype(int) + pred_classifier_tfidf.astype(int)\n",
    "voiting_result = (sum_of_voices > 1).astype(int)"
   ]
  },
  {
   "cell_type": "code",
   "execution_count": 28,
   "id": "2c7479f5",
   "metadata": {},
   "outputs": [
    {
     "name": "stdout",
     "output_type": "stream",
     "text": [
      "Voiting result: 0.8663194444444444\n"
     ]
    }
   ],
   "source": [
    "accuracy_voiting = metrics.accuracy_score(voiting_result, y_test)\n",
    "print(f'Voiting result: {accuracy_voiting}')"
   ]
  },
  {
   "cell_type": "code",
   "execution_count": 29,
   "id": "d9479595",
   "metadata": {},
   "outputs": [
    {
     "data": {
      "text/plain": [
       "0.8705882352941176"
      ]
     },
     "execution_count": 29,
     "metadata": {},
     "output_type": "execute_result"
    }
   ],
   "source": [
    "metrics.f1_score(y_test, voiting_result)"
   ]
  },
  {
   "cell_type": "markdown",
   "id": "d4c267e4",
   "metadata": {},
   "source": [
    "## Обучение на полном наборе данных"
   ]
  },
  {
   "cell_type": "markdown",
   "id": "b32164fb",
   "metadata": {},
   "source": [
    "Будем использовать алгоритм обучения MultinominalNB(alpha = 0.95) тк он показал себя наилучшим образом"
   ]
  },
  {
   "cell_type": "code",
   "execution_count": 30,
   "id": "f4f2b57b",
   "metadata": {},
   "outputs": [],
   "source": [
    "X_train_full, y_train_full = train['total'], train['is_fake'] "
   ]
  },
  {
   "cell_type": "code",
   "execution_count": 31,
   "id": "aed56fd3",
   "metadata": {},
   "outputs": [],
   "source": [
    "count_vectorizer = CountVectorizer(ngram_range=(1, 2)) \n",
    "count_train_full = count_vectorizer.fit_transform(X_train_full)\n",
    "count_test_full  = count_vectorizer.transform(test['total'])"
   ]
  },
  {
   "cell_type": "code",
   "execution_count": 32,
   "id": "6e65c9b5",
   "metadata": {},
   "outputs": [],
   "source": [
    "nb_classifier_tune = MultinomialNB(alpha=0.95)\n",
    "nb_classifier_tune.fit(count_train_full, y_train_full)\n",
    "final_prediction = nb_classifier_tune.predict(count_test_full)"
   ]
  },
  {
   "cell_type": "code",
   "execution_count": 33,
   "id": "b7133fc0",
   "metadata": {},
   "outputs": [
    {
     "name": "stdout",
     "output_type": "stream",
     "text": [
      "                                                 title  is_fake\n",
      "0    Роскомнадзор представил реестр сочетаний цвето...        1\n",
      "1    Ночью под Минском на президентской горе Белара...        1\n",
      "2    Бывший спичрайтер Юрия Лозы рассказал о трудно...        1\n",
      "3    Сельская церковь, собравшая рекордно низкое ко...        1\n",
      "4    Акции Google рухнули после объявления о переза...        0\n",
      "..                                                 ...      ...\n",
      "995  Прокуратура заподозрила Явлинского в авторитар...        1\n",
      "996  В День Победы стратегические ракетоносцы Ту-16...        1\n",
      "997  СК возбудил дело против авиакомпании «Победа» ...        1\n",
      "998  Криптомонетный двор Туркменистана выпустил юби...        1\n",
      "999  Deutsche Bahn заплатит рекордный штраф за чтен...        1\n",
      "\n",
      "[1000 rows x 2 columns]\n"
     ]
    }
   ],
   "source": [
    "output = pd.DataFrame({'title': test['title'],\n",
    "                      'is_fake': final_prediction})\n",
    "\n",
    "output.to_csv('predictions.tsv', index=False, sep='\\t')\n",
    "print(output)"
   ]
  },
  {
   "cell_type": "code",
   "execution_count": null,
   "id": "350b4108",
   "metadata": {},
   "outputs": [],
   "source": []
  }
 ],
 "metadata": {
  "kernelspec": {
   "display_name": "Python 3 (ipykernel)",
   "language": "python",
   "name": "python3"
  },
  "language_info": {
   "codemirror_mode": {
    "name": "ipython",
    "version": 3
   },
   "file_extension": ".py",
   "mimetype": "text/x-python",
   "name": "python",
   "nbconvert_exporter": "python",
   "pygments_lexer": "ipython3",
   "version": "3.10.2"
  }
 },
 "nbformat": 4,
 "nbformat_minor": 5
}
